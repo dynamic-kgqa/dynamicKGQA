{
 "cells": [
  {
   "cell_type": "code",
   "execution_count": 10,
   "metadata": {},
   "outputs": [],
   "source": [
    "import os\n",
    "import json\n",
    "import logging\n",
    "from pathlib import Path\n",
    "from dotenv import load_dotenv\n",
    "from datasets import load_dataset\n",
    "from tqdm import tqdm\n",
    "import pandas as pd\n",
    "from utils.openai_endpoints import query_openai_model\n",
    "\n",
    "\n",
    "from utils.prompts import gen_qa_prompt\n",
    "\n",
    "from azure.ai.inference import ChatCompletionsClient\n",
    "from azure.core.credentials import AzureKeyCredential\n",
    "\n",
    "\n",
    "\n",
    "# Set up logging\n",
    "logging.basicConfig(level=logging.INFO, format='%(message)s')\n",
    "logger = logging.getLogger(__name__)"
   ]
  },
  {
   "cell_type": "code",
   "execution_count": 2,
   "metadata": {},
   "outputs": [
    {
     "name": "stdout",
     "output_type": "stream",
     "text": [
      "('{\\n  \"response\": \"Yes, I am here and ready to assist you!\"\\n}', CompletionUsage(completion_tokens=19, prompt_tokens=24, total_tokens=43, completion_tokens_details=CompletionTokensDetails(accepted_prediction_tokens=0, audio_tokens=0, reasoning_tokens=0, rejected_prediction_tokens=0), prompt_tokens_details=PromptTokensDetails(audio_tokens=0, cached_tokens=0)))\n"
     ]
    }
   ],
   "source": [
    "resp = query_openai_model(\"Are you up? reply in json\")\n",
    "print(resp)"
   ]
  },
  {
   "cell_type": "code",
   "execution_count": 2,
   "metadata": {},
   "outputs": [],
   "source": [
    "# Load the dataset\n",
    "logger.info(\"Loading dataset...\")\n",
    "dataset = load_dataset(\"preetam7/dynamic_kgqa\")\n",
    "\n",
    "# Work with test split\n",
    "test_data = list(dataset['test'])\n",
    "results = []"
   ]
  },
  {
   "cell_type": "code",
   "execution_count": 6,
   "metadata": {},
   "outputs": [
    {
     "data": {
      "text/plain": [
       "2029"
      ]
     },
     "execution_count": 6,
     "metadata": {},
     "output_type": "execute_result"
    }
   ],
   "source": [
    "len(test_data[0]['subgraph'])"
   ]
  },
  {
   "cell_type": "code",
   "execution_count": 12,
   "metadata": {},
   "outputs": [
    {
     "name": "stdout",
     "output_type": "stream",
     "text": [
      "You are an AI assistant tasked with generating question-answer pairs from knowledge graph triples. Your goal is to create natural, human-like questions and their corresponding answers based on the provided graph data.\n",
      "\n",
      "Task Overview:\n",
      "Generate **multi-hop, complex Q&A pairs** where the questions appear simple and natural but require reasoning across multiple connected relationships within the graph to infer the answer.\n",
      "\n",
      "Guidelines for Generating Q&A Pairs:\n",
      "1. **Question Design**:\n",
      "- Questions should utilize multiple connected relationships in the graph, requiring multi-hop reasoning.\n",
      "- Avoid single-hop or trivial questions directly derived from a single triple.\n",
      "- The answer should be an entity or node in the graph.\n",
      "\n",
      "2. **Multi-Hop Reasoning**:\n",
      "- Use paths connecting entities indirectly through multiple relationships to infer answers.\n",
      "- Questions should reflect meaningful and interesting connections within the graph.\n",
      "- Aim for question with at least 4 hops or higher whenever possible.\n",
      "\n",
      "3. **Answer Validation**:\n",
      "- Ensure each answer is fully supported by one or more triples from the graph.\n",
      "- Include the exact path (a sequence of triples) that justifies the answer.\n",
      "\n",
      "4. **Comprehensive Coverage**:\n",
      "- Generate as many high-quality Q&A pairs as possible, exploring all meaningful paths and connections within the graph.\n",
      "\n",
      "5. **Fallback Condition**:\n",
      "- If no valid Q&A pairs can be generated from the graph, explicitly indicate this in the response.\n",
      "\n",
      "Graph Data:\n",
      "Below is the graph data for your task:\n",
      "[[\"http://yago-knowledge.org/resource/Camelidae\", \"http://schema.org/parentTaxon\", \"http://yago-knowledge.org/resource/Even-toed_ungulate\"], [\"http://yago-knowledge.org/resource/Even-toed_ungulate\", \"http://schema.org/parentTaxon\", \"http://yago-knowledge.org/resource/Ungulate\"], [\"http://yago-knowledge.org/resource/Tragulina\", \"http://schema.org/parentTaxon\", \"http://yago-knowledge.org/resource/Ruminant\"], [\"http://yago-knowledge.org/resource/Chevrotain\", \"http://schema.org/parentTaxon\", \"http://yago-knowledge.org/resource/Even-toed_ungulate\"], [\"http://yago-knowledge.org/resource/Chevrotain\", \"http://schema.org/parentTaxon\", \"http://yago-knowledge.org/resource/Tragulina\"], [\"http://yago-knowledge.org/resource/Camel\", \"http://schema.org/parentTaxon\", \"http://yago-knowledge.org/resource/Camelidae\"], [\"http://yago-knowledge.org/resource/Guanaco\", \"http://schema.org/parentTaxon\", \"http://yago-knowledge.org/resource/Lama__u0028_genus_u0029_\"], [\"http://yago-knowledge.org/resource/Tylopoda\", \"http://schema.org/parentTaxon\", \"http://yago-knowledge.org/resource/Even-toed_ungulate\"], [\"http://yago-knowledge.org/resource/Vicugna\", \"http://schema.org/parentTaxon\", \"http://yago-knowledge.org/resource/Camelidae\"], [\"http://yago-knowledge.org/resource/Vicu\\u00f1a\", \"http://schema.org/parentTaxon\", \"http://yago-knowledge.org/resource/Vicugna\"], [\"http://yago-knowledge.org/resource/Suina\", \"http://schema.org/parentTaxon\", \"http://yago-knowledge.org/resource/Even-toed_ungulate\"], [\"http://yago-knowledge.org/resource/Lama__u0028_genus_u0029_\", \"http://schema.org/parentTaxon\", \"http://yago-knowledge.org/resource/Camelidae\"], [\"http://yago-knowledge.org/resource/Alpaca\", \"http://schema.org/parentTaxon\", \"http://yago-knowledge.org/resource/Vicugna\"], [\"http://yago-knowledge.org/resource/Llama\", \"http://schema.org/parentTaxon\", \"http://yago-knowledge.org/resource/Lama__u0028_genus_u0029_\"], [\"http://yago-knowledge.org/resource/Pecora\", \"http://schema.org/parentTaxon\", \"http://yago-knowledge.org/resource/Ruminant\"]]\n",
      "\n",
      "Repond ONLY with JSON with the following structure:\n",
      "\n",
      "- **valid_qa_pairs**: Boolean indicating if valid QA pairs were generated.\n",
      "- **number_of_qa_pairs**: Integer specifying the total number of QA pairs.\n",
      "- **qa_pairs**: A list of QA pairs, where each pair includes:\n",
      "- **question**: String representing the question.\n",
      "- **answer**: String representing the answer.\n",
      "- **supporting_path**: A list of triples, where each triple includes:\n",
      "    - **subject**: String representing the subject.\n",
      "    - **predicate**: String representing the predicate.\n",
      "    - **object**: String representing the object.\n",
      "\n"
     ]
    }
   ],
   "source": [
    "prompt = gen_qa_prompt(test_data[0]['subgraph'])\n",
    "\n",
    "print(prompt)"
   ]
  },
  {
   "cell_type": "code",
   "execution_count": 13,
   "metadata": {},
   "outputs": [
    {
     "name": "stdout",
     "output_type": "stream",
     "text": [
      "('{\\n  \"valid_qa_pairs\": true,\\n  \"number_of_qa_pairs\": 5,\\n  \"qa_pairs\": [\\n    {\\n      \"question\": \"Which taxon does a llama ultimately belong to?\",\\n      \"answer\": \"http://yago-knowledge.org/resource/Even-toed_ungulate\",\\n      \"supporting_path\": [\\n        {\\n          \"subject\": \"http://yago-knowledge.org/resource/Llama\",\\n          \"predicate\": \"http://schema.org/parentTaxon\",\\n          \"object\": \"http://yago-knowledge.org/resource/Lama__u0028_genus_u0029_\"\\n        },\\n        {\\n          \"subject\": \"http://yago-knowledge.org/resource/Lama__u0028_genus_u0029_\",\\n          \"predicate\": \"http://schema.org/parentTaxon\",\\n          \"object\": \"http://yago-knowledge.org/resource/Camelidae\"\\n        },\\n        {\\n          \"subject\": \"http://yago-knowledge.org/resource/Camelidae\",\\n          \"predicate\": \"http://schema.org/parentTaxon\",\\n          \"object\": \"http://yago-knowledge.org/resource/Even-toed_ungulate\"\\n        }\\n      ]\\n    },\\n    {\\n      \"question\": \"What is the parent taxon of an alpaca?\",\\n      \"answer\": \"http://yago-knowledge.org/resource/Camelidae\",\\n      \"supporting_path\": [\\n        {\\n          \"subject\": \"http://yago-knowledge.org/resource/Alpaca\",\\n          \"predicate\": \"http://schema.org/parentTaxon\",\\n          \"object\": \"http://yago-knowledge.org/resource/Vicugna\"\\n        },\\n        {\\n          \"subject\": \"http://yago-knowledge.org/resource/Vicugna\",\\n          \"predicate\": \"http://schema.org/parentTaxon\",\\n          \"object\": \"http://yago-knowledge.org/resource/Camelidae\"\\n        }\\n      ]\\n    },\\n    {\\n      \"question\": \"Which taxon does a chevrotain ultimately belong to?\",\\n      \"answer\": \"http://yago-knowledge.org/resource/Ungulate\",\\n      \"supporting_path\": [\\n        {\\n          \"subject\": \"http://yago-knowledge.org/resource/Chevrotain\",\\n          \"predicate\": \"http://schema.org/parentTaxon\",\\n          \"object\": \"http://yago-knowledge.org/resource/Even-toed_ungulate\"\\n        },\\n        {\\n          \"subject\": \"http://yago-knowledge.org/resource/Even-toed_ungulate\",\\n          \"predicate\": \"http://schema.org/parentTaxon\",\\n          \"object\": \"http://yago-knowledge.org/resource/Ungulate\"\\n        }\\n      ]\\n    },\\n    {\\n      \"question\": \"What is the ultimate parent taxon of a vicuña?\",\\n      \"answer\": \"http://yago-knowledge.org/resource/Even-toed_ungulate\",\\n      \"supporting_path\": [\\n        {\\n          \"subject\": \"http://yago-knowledge.org/resource/Vicuña\",\\n          \"predicate\": \"http://schema.org/parentTaxon\",\\n          \"object\": \"http://yago-knowledge.org/resource/Vicugna\"\\n        },\\n        {\\n          \"subject\": \"http://yago-knowledge.org/resource/Vicugna\",\\n          \"predicate\": \"http://schema.org/parentTaxon\",\\n          \"object\": \"http://yago-knowledge.org/resource/Camelidae\"\\n        },\\n        {\\n          \"subject\": \"http://yago-knowledge.org/resource/Camelidae\",\\n          \"predicate\": \"http://schema.org/parentTaxon\",\\n          \"object\": \"http://yago-knowledge.org/resource/Even-toed_ungulate\"\\n        }\\n      ]\\n    },\\n    {\\n      \"question\": \"Which taxon does a guanaco ultimately belong to?\",\\n      \"answer\": \"http://yago-knowledge.org/resource/Even-toed_ungulate\",\\n      \"supporting_path\": [\\n        {\\n          \"subject\": \"http://yago-knowledge.org/resource/Guanaco\",\\n          \"predicate\": \"http://schema.org/parentTaxon\",\\n          \"object\": \"http://yago-knowledge.org/resource/Lama__u0028_genus_u0029_\"\\n        },\\n        {\\n          \"subject\": \"http://yago-knowledge.org/resource/Lama__u0028_genus_u0029_\",\\n          \"predicate\": \"http://schema.org/parentTaxon\",\\n          \"object\": \"http://yago-knowledge.org/resource/Camelidae\"\\n        },\\n        {\\n          \"subject\": \"http://yago-knowledge.org/resource/Camelidae\",\\n          \"predicate\": \"http://schema.org/parentTaxon\",\\n          \"object\": \"http://yago-knowledge.org/resource/Even-toed_ungulate\"\\n        }\\n      ]\\n    }\\n  ]\\n}', CompletionUsage(completion_tokens=1012, prompt_tokens=1038, total_tokens=2050, completion_tokens_details=CompletionTokensDetails(accepted_prediction_tokens=0, audio_tokens=0, reasoning_tokens=0, rejected_prediction_tokens=0), prompt_tokens_details=PromptTokensDetails(audio_tokens=0, cached_tokens=0)))\n"
     ]
    }
   ],
   "source": [
    "res = query_openai_model(prompt)\n",
    "print(res)"
   ]
  }
 ],
 "metadata": {
  "kernelspec": {
   "display_name": "dynamickgqa_env",
   "language": "python",
   "name": "python3"
  },
  "language_info": {
   "codemirror_mode": {
    "name": "ipython",
    "version": 3
   },
   "file_extension": ".py",
   "mimetype": "text/x-python",
   "name": "python",
   "nbconvert_exporter": "python",
   "pygments_lexer": "ipython3",
   "version": "3.10.16"
  }
 },
 "nbformat": 4,
 "nbformat_minor": 2
}
